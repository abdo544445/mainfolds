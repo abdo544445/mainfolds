{
 "cells": [
  {
   "cell_type": "code",
   "execution_count": null,
   "metadata": {},
   "outputs": [
    {
     "name": "stdout",
     "output_type": "stream",
     "text": [
      "pygame 2.5.2 (SDL 2.28.2, Python 3.12.3)\n",
      "Hello from the pygame community. https://www.pygame.org/contribute.html\n"
     ]
    },
    {
     "ename": "AttributeError",
     "evalue": "'pygame.event.Event' object has no attribute 'pos'",
     "output_type": "error",
     "traceback": [
      "\u001b[0;31m---------------------------------------------------------------------------\u001b[0m",
      "\u001b[0;31mAttributeError\u001b[0m                            Traceback (most recent call last)",
      "Cell \u001b[0;32mIn[1], line 83\u001b[0m\n\u001b[1;32m     79\u001b[0m     pygame\u001b[38;5;241m.\u001b[39mquit()\n\u001b[1;32m     82\u001b[0m \u001b[38;5;28;01mif\u001b[39;00m \u001b[38;5;18m__name__\u001b[39m \u001b[38;5;241m==\u001b[39m \u001b[38;5;124m\"\u001b[39m\u001b[38;5;124m__main__\u001b[39m\u001b[38;5;124m\"\u001b[39m:\n\u001b[0;32m---> 83\u001b[0m     \u001b[43mmain\u001b[49m\u001b[43m(\u001b[49m\u001b[43m)\u001b[49m\n",
      "Cell \u001b[0;32mIn[1], line 57\u001b[0m, in \u001b[0;36mmain\u001b[0;34m()\u001b[0m\n\u001b[1;32m     55\u001b[0m         running \u001b[38;5;241m=\u001b[39m \u001b[38;5;28;01mFalse\u001b[39;00m\n\u001b[1;32m     56\u001b[0m     \u001b[38;5;66;03m# Capture mouse movement (left click to start recording)\u001b[39;00m\n\u001b[0;32m---> 57\u001b[0m     on_click(\u001b[38;5;241m*\u001b[39m\u001b[43mevent\u001b[49m\u001b[38;5;241;43m.\u001b[39;49m\u001b[43mpos\u001b[49m, event\u001b[38;5;241m.\u001b[39mbutton, event\u001b[38;5;241m.\u001b[39mtype \u001b[38;5;241m==\u001b[39m pygame\u001b[38;5;241m.\u001b[39mMOUSEBUTTONDOWN)\n\u001b[1;32m     59\u001b[0m \u001b[38;5;66;03m# Clear the screen\u001b[39;00m\n\u001b[1;32m     60\u001b[0m screen\u001b[38;5;241m.\u001b[39mfill((\u001b[38;5;241m255\u001b[39m, \u001b[38;5;241m255\u001b[39m, \u001b[38;5;241m255\u001b[39m))\n",
      "\u001b[0;31mAttributeError\u001b[0m: 'pygame.event.Event' object has no attribute 'pos'"
     ]
    },
    {
     "ename": "",
     "evalue": "",
     "output_type": "error",
     "traceback": [
      "\u001b[1;31mThe Kernel crashed while executing code in the current cell or a previous cell. \n",
      "\u001b[1;31mPlease review the code in the cell(s) to identify a possible cause of the failure. \n",
      "\u001b[1;31mClick <a href='https://aka.ms/vscodeJupyterKernelCrash'>here</a> for more info. \n",
      "\u001b[1;31mView Jupyter <a href='command:jupyter.viewOutput'>log</a> for further details."
     ]
    }
   ],
   "source": [
    "# !pip install numpy matplotlib scipy pynput pygame\n",
    "\n",
    "import pygame\n",
    "import numpy as np\n",
    "import matplotlib.pyplot as plt\n",
    "from scipy.interpolate import splprep, splev\n",
    "from pynput.mouse import Listener\n",
    "\n",
    "# Initialize variables\n",
    "mouse_path = []  # List to store mouse coordinates\n",
    "recording = False\n",
    "screen_width = 800\n",
    "screen_height = 600\n",
    "\n",
    "def on_click(x, y, button, pressed):\n",
    "    global recording\n",
    "    if button == btn.left and pressed:\n",
    "        recording = not recording\n",
    "        mouse_path.clear()  # Clear path on left click to start a new recording\n",
    "\n",
    "def on_move(x, y):\n",
    "    if recording:\n",
    "        mouse_path.append((x, y))\n",
    "\n",
    "def save_data(filename):\n",
    "    # Convert mouse path to NumPy array\n",
    "    path_array = np.array(mouse_path)\n",
    "\n",
    "    # Smooth the path\n",
    "    smoothed_path = smooth_lines(path_array)\n",
    "\n",
    "    # Save original and smoothed paths to CSV files\n",
    "    np.savetxt(f\"{filename}_original.csv\", path_array, delimiter=\",\", fmt=\"%d\")\n",
    "    np.savetxt(f\"{filename}_smoothed.csv\", smoothed_path, delimiter=\",\", fmt=\"%d\")\n",
    "\n",
    "\n",
    "def smooth_lines(points, num_points=100):\n",
    "    tck, u = splprep(points.T, s=0)\n",
    "    new_points = splev(np.linspace(0, 1, num_points), tck)\n",
    "    return new_points\n",
    "\n",
    "\n",
    "def main():\n",
    "    # Pygame initialization\n",
    "    pygame.init()\n",
    "    screen = pygame.display.set_mode((screen_width, screen_height))\n",
    "    pygame.display.set_caption(\"Mouse Path Capture\")\n",
    "    clock = pygame.time.Clock()\n",
    "\n",
    "    # Main loop\n",
    "    running = True\n",
    "    while running:\n",
    "        for event in pygame.event.get():\n",
    "            if event.type == pygame.QUIT:\n",
    "                running = False\n",
    "            # Capture mouse movement (left click to start recording)\n",
    "            on_click(*event.pos, event.button, event.type == pygame.MOUSEBUTTONDOWN)\n",
    "\n",
    "        # Clear the screen\n",
    "        screen.fill((255, 255, 255))\n",
    "\n",
    "        # Draw the path (optional)\n",
    "        if mouse_path:\n",
    "            for i in range(len(mouse_path) - 1):\n",
    "                start_pos, end_pos = mouse_path[i], mouse_path[i + 1]\n",
    "                pygame.draw.line(screen, (0, 0, 255), start_pos, end_pos, 2)\n",
    "\n",
    "        # Update the display\n",
    "        pygame.display.flip()\n",
    "\n",
    "        # Set FPS\n",
    "        clock.tick(60)\n",
    "\n",
    "    # Save data if recording was active\n",
    "    if recording:\n",
    "        save_data(\"my_data\")\n",
    "\n",
    "    # Quit Pygame\n",
    "    pygame.quit()\n",
    "\n",
    "\n",
    "if __name__ == \"__main__\":\n",
    "    main()\n"
   ]
  },
  {
   "cell_type": "code",
   "execution_count": null,
   "metadata": {},
   "outputs": [],
   "source": []
  }
 ],
 "metadata": {
  "kernelspec": {
   "display_name": "Python 3",
   "language": "python",
   "name": "python3"
  },
  "language_info": {
   "codemirror_mode": {
    "name": "ipython",
    "version": 3
   },
   "file_extension": ".py",
   "mimetype": "text/x-python",
   "name": "python",
   "nbconvert_exporter": "python",
   "pygments_lexer": "ipython3",
   "version": "3.12.3"
  }
 },
 "nbformat": 4,
 "nbformat_minor": 2
}
