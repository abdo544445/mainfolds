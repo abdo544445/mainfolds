{
 "cells": [
  {
   "cell_type": "code",
   "execution_count": 2,
   "metadata": {},
   "outputs": [
    {
     "name": "stdout",
     "output_type": "stream",
     "text": [
      "Mouse path data saved to CSV files!\n"
     ]
    }
   ],
   "source": [
    "# !pip install numpy matplotlib scipy pynput\n",
    "\n",
    "import numpy as np\n",
    "import matplotlib.pyplot as plt\n",
    "from scipy.interpolate import splprep, splev\n",
    "from pynput.mouse import Listener\n",
    "\n",
    "# Initialize variables\n",
    "mouse_path = []  # List to store mouse coordinates\n",
    "recording = False\n",
    "\n",
    "\n",
    "def on_click(x, y, button, pressed):\n",
    "    global recording\n",
    "    if button == btn.left and pressed:\n",
    "        recording = not recording\n",
    "\n",
    "\n",
    "def on_move(x, y):\n",
    "    if recording:\n",
    "        mouse_path.append((x, y))\n",
    "\n",
    "\n",
    "def save_data(filename):\n",
    "    # Convert mouse path to NumPy array\n",
    "    path_array = np.array(mouse_path)\n",
    "\n",
    "    # Smooth the path\n",
    "    smoothed_path = smooth_lines(path_array)\n",
    "\n",
    "    # Save original and smoothed paths to CSV files\n",
    "    np.savetxt(f\"{filename}_original.csv\", path_array, delimiter=\",\", fmt=\"%d\")\n",
    "    np.savetxt(f\"{filename}_smoothed.csv\", smoothed_path, delimiter=\",\", fmt=\"%d\")\n",
    "\n",
    "\n",
    "def smooth_lines(points, num_points=100):\n",
    "    tck, u = splprep(points.T, s=0)\n",
    "    new_points = splev(np.linspace(0, 1, num_points), tck)\n",
    "    return new_points\n",
    "\n",
    "\n",
    "# Start listener (uncomment the following line to capture mouse movements)\n",
    "# with Listener(on_click=on_click, on_move=on_move) as listener:\n",
    "#     listener.join()\n",
    "\n",
    "# Example usage (replace with your actual capture logic)\n",
    "recording = True\n",
    "for i in range(100):  # Simulate some mouse movements\n",
    "    mouse_path.append((i, i**2))\n",
    "recording = False\n",
    "\n",
    "# Save data with a custom filename\n",
    "save_data(\"my_data\")\n",
    "\n",
    "# Optional: Plot the paths (uncomment to visualize)\n",
    "# plt.plot(*np.array(mouse_path).T, label=\"Original Path\")\n",
    "# plt.plot(*smooth_lines(np.array(mouse_path)).T, label=\"Smoothed Path\", linestyle=\"--\")\n",
    "# plt.xlabel(\"X\")\n",
    "# plt.ylabel(\"Y\")\n",
    "# plt.title(\"Mouse Path and Smoothed Path\")\n",
    "# plt.legend()\n",
    "# plt.show()\n",
    "\n",
    "print(\"Mouse path data saved to CSV files!\")\n"
   ]
  }
 ],
 "metadata": {
  "kernelspec": {
   "display_name": "Python 3",
   "language": "python",
   "name": "python3"
  },
  "language_info": {
   "codemirror_mode": {
    "name": "ipython",
    "version": 3
   },
   "file_extension": ".py",
   "mimetype": "text/x-python",
   "name": "python",
   "nbconvert_exporter": "python",
   "pygments_lexer": "ipython3",
   "version": "3.12.3"
  }
 },
 "nbformat": 4,
 "nbformat_minor": 2
}
