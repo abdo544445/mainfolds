{
 "cells": [
  {
   "cell_type": "code",
   "execution_count": 4,
   "id": "16750191",
   "metadata": {},
   "outputs": [
    {
     "name": "stdout",
     "output_type": "stream",
     "text": [
      "Defaulting to user installation because normal site-packages is not writeable\n",
      "Requirement already satisfied: pynput in /home/abdo/.local/lib/python3.12/site-packages (1.7.7)\n",
      "Requirement already satisfied: six in /usr/lib/python3.12/site-packages (from pynput) (1.16.0)\n",
      "Requirement already satisfied: evdev>=1.3 in /home/abdo/.local/lib/python3.12/site-packages (from pynput) (1.7.1)\n",
      "Requirement already satisfied: python-xlib>=0.17 in /home/abdo/.local/lib/python3.12/site-packages (from pynput) (0.33)\n",
      "Note: you may need to restart the kernel to use updated packages.\n"
     ]
    }
   ],
   "source": [
    "pip install pynput\n"
   ]
  },
  {
   "cell_type": "code",
   "execution_count": 1,
   "id": "5c4feb60",
   "metadata": {},
   "outputs": [
    {
     "name": "stdout",
     "output_type": "stream",
     "text": [
      "Data saved to mouse_path.csv\n",
      "Data saved to mouse_path.csv\n"
     ]
    },
    {
     "name": "stderr",
     "output_type": "stream",
     "text": [
      "Exception in Tkinter callback\n",
      "Traceback (most recent call last):\n",
      "  File \"/usr/lib64/python3.12/tkinter/__init__.py\", line 1967, in __call__\n",
      "    return self.func(*args)\n",
      "           ^^^^^^^^^^^^^^^^\n",
      "  File \"/tmp/ipykernel_13223/3062479951.py\", line 23, in start_capture\n",
      "    listener.join()\n",
      "  File \"/home/abdo/.local/lib/python3.12/site-packages/pynput/_util/__init__.py\", line 271, in join\n",
      "    super(AbstractListener, self).join(timeout, *args)\n",
      "  File \"/usr/lib64/python3.12/threading.py\", line 1147, in join\n",
      "    self._wait_for_tstate_lock()\n",
      "  File \"/usr/lib64/python3.12/threading.py\", line 1167, in _wait_for_tstate_lock\n",
      "    if lock.acquire(block, timeout):\n",
      "       ^^^^^^^^^^^^^^^^^^^^^^^^^^^^\n",
      "KeyboardInterrupt\n"
     ]
    }
   ],
   "source": [
    "import csv\n",
    "from pynput import mouse\n",
    "from tkinter import Tk, Button\n",
    "\n",
    "# Initialize the list to store mouse coordinates\n",
    "mouse_data = []\n",
    "\n",
    "# Function to be called when mouse moves\n",
    "def on_move(x, y):\n",
    "    mouse_data.append((x, y))\n",
    "\n",
    "# Function to save data to CSV\n",
    "def save_to_csv(filename='mouse_path.csv'):\n",
    "    with open(filename, 'w', newline='') as csvfile:\n",
    "        writer = csv.writer(csvfile)\n",
    "        writer.writerow(['X', 'Y'])\n",
    "        writer.writerows(mouse_data)\n",
    "    print(f'Data saved to {filename}')\n",
    "\n",
    "# Function to start listening to mouse movements\n",
    "def start_capture():\n",
    "    with mouse.Listener(on_move=on_move) as listener:\n",
    "        listener.join()\n",
    "\n",
    "# Set up the GUI\n",
    "root = Tk()\n",
    "root.title('Mouse Tracker')\n",
    "\n",
    "# Button to start the capture\n",
    "start_button = Button(root, text='Start Capture', command=start_capture)\n",
    "start_button.pack()\n",
    "\n",
    "# Button to save the data\n",
    "save_button = Button(root, text='Save Data', command=save_to_csv)\n",
    "save_button.pack()\n",
    "\n",
    "# Run the GUI\n",
    "root.mainloop()\n"
   ]
  },
  {
   "cell_type": "code",
   "execution_count": 4,
   "id": "f6c29f50",
   "metadata": {},
   "outputs": [
    {
     "name": "stdout",
     "output_type": "stream",
     "text": [
      "Data saved to mouse_path.csv\n",
      "Data saved to mouse_path.csv\n",
      "Data saved to mouse_path.csv\n"
     ]
    }
   ],
   "source": [
    "# This one is wis more beuty look , and have a board to draw on it \n",
    "import csv\n",
    "from tkinter import Tk, Canvas, Button\n",
    "\n",
    "# Initialize the list to store mouse coordinates\n",
    "mouse_data = []\n",
    "\n",
    "# Function to capture mouse drag events and draw lines\n",
    "def draw(event):\n",
    "    canvas.create_line(event.x, event.y, event.x+1, event.y+1)\n",
    "    mouse_data.append((event.x, event.y))\n",
    "\n",
    "# Function to save data to CSV\n",
    "def save_to_csv(filename='mouse_path.csv'):\n",
    "    with open(filename, 'w', newline='') as csvfile:\n",
    "        writer = csv.writer(csvfile)\n",
    "        writer.writerow(['X', 'Y'])\n",
    "        writer.writerows(mouse_data)\n",
    "    print(f'Data saved to {filename}')\n",
    "\n",
    "# Set up the GUI\n",
    "root = Tk()\n",
    "root.title('Mouse Tracker with Drawing Board')\n",
    "\n",
    "# Create a drawing canvas\n",
    "canvas = Canvas(root, width=800, height=600, bg='white')\n",
    "canvas.pack()\n",
    "canvas.bind('<B1-Motion>', draw)\n",
    "\n",
    "# Button to save the data\n",
    "save_button = Button(root, text='Save Data', command=save_to_csv)\n",
    "save_button.pack()\n",
    "\n",
    "# Run the GUI\n",
    "root.mainloop()\n"
   ]
  },
  {
   "cell_type": "code",
   "execution_count": 6,
   "id": "3c2862ec",
   "metadata": {},
   "outputs": [
    {
     "name": "stdout",
     "output_type": "stream",
     "text": [
      "Data saved to mouse_path.csv\n",
      "Data saved to mouse_path.csv\n"
     ]
    },
    {
     "ename": "KeyboardInterrupt",
     "evalue": "",
     "output_type": "error",
     "traceback": [
      "\u001b[0;31m---------------------------------------------------------------------------\u001b[0m",
      "\u001b[0;31mKeyboardInterrupt\u001b[0m                         Traceback (most recent call last)",
      "Cell \u001b[0;32mIn[6], line 35\u001b[0m\n\u001b[1;32m     32\u001b[0m save_button\u001b[38;5;241m.\u001b[39mpack()\n\u001b[1;32m     34\u001b[0m \u001b[38;5;66;03m# Run the GUI\u001b[39;00m\n\u001b[0;32m---> 35\u001b[0m \u001b[43mroot\u001b[49m\u001b[38;5;241;43m.\u001b[39;49m\u001b[43mmainloop\u001b[49m\u001b[43m(\u001b[49m\u001b[43m)\u001b[49m\n",
      "File \u001b[0;32m/usr/lib64/python3.12/tkinter/__init__.py:1504\u001b[0m, in \u001b[0;36mMisc.mainloop\u001b[0;34m(self, n)\u001b[0m\n\u001b[1;32m   1502\u001b[0m \u001b[38;5;28;01mdef\u001b[39;00m \u001b[38;5;21mmainloop\u001b[39m(\u001b[38;5;28mself\u001b[39m, n\u001b[38;5;241m=\u001b[39m\u001b[38;5;241m0\u001b[39m):\n\u001b[1;32m   1503\u001b[0m \u001b[38;5;250m    \u001b[39m\u001b[38;5;124;03m\"\"\"Call the mainloop of Tk.\"\"\"\u001b[39;00m\n\u001b[0;32m-> 1504\u001b[0m     \u001b[38;5;28;43mself\u001b[39;49m\u001b[38;5;241;43m.\u001b[39;49m\u001b[43mtk\u001b[49m\u001b[38;5;241;43m.\u001b[39;49m\u001b[43mmainloop\u001b[49m\u001b[43m(\u001b[49m\u001b[43mn\u001b[49m\u001b[43m)\u001b[49m\n",
      "\u001b[0;31mKeyboardInterrupt\u001b[0m: "
     ]
    }
   ],
   "source": [
    "#this one is with black background on board \n",
    "import csv\n",
    "from tkinter import Tk, Canvas, Button\n",
    "\n",
    "# Initialize the list to store mouse coordinates\n",
    "mouse_data = []\n",
    "\n",
    "# Function to capture mouse drag events and draw lines with white color on black background\n",
    "def draw(event):\n",
    "    canvas.create_line(event.x, event.y, event.x+1, event.y+1, fill='white')\n",
    "    mouse_data.append((event.x, event.y))\n",
    "\n",
    "# Function to save data to CSV\n",
    "def save_to_csv(filename='mouse_path.csv'):\n",
    "    with open(filename, 'w', newline='') as csvfile:\n",
    "        writer = csv.writer(csvfile)\n",
    "        writer.writerow(['X', 'Y'])\n",
    "        writer.writerows(mouse_data)\n",
    "    print(f'Data saved to {filename}')\n",
    "\n",
    "# Set up the GUI\n",
    "root = Tk()\n",
    "root.title('Mouse Tracker with Drawing Board')\n",
    "\n",
    "# Create a drawing canvas with a black background\n",
    "canvas = Canvas(root, width=800, height=600, bg='black')\n",
    "canvas.pack()\n",
    "canvas.bind('<B1-Motion>', draw)\n",
    "\n",
    "# Button to save the data\n",
    "save_button = Button(root, text='Save Data', command=save_to_csv)\n",
    "save_button.pack()\n",
    "\n",
    "# Run the GUI\n",
    "root.mainloop()\n"
   ]
  },
  {
   "cell_type": "code",
   "execution_count": null,
   "id": "649f5d0e",
   "metadata": {},
   "outputs": [],
   "source": []
  }
 ],
 "metadata": {
  "kernelspec": {
   "display_name": "Python 3 (ipykernel)",
   "language": "python",
   "name": "python3"
  },
  "language_info": {
   "codemirror_mode": {
    "name": "ipython",
    "version": 3
   },
   "file_extension": ".py",
   "mimetype": "text/x-python",
   "name": "python",
   "nbconvert_exporter": "python",
   "pygments_lexer": "ipython3",
   "version": "3.12.3"
  }
 },
 "nbformat": 4,
 "nbformat_minor": 5
}
